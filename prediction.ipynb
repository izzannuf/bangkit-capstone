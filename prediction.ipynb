{
 "cells": [
  {
   "cell_type": "code",
   "execution_count": 6,
   "metadata": {},
   "outputs": [
    {
     "name": "stderr",
     "output_type": "stream",
     "text": [
      "WARNING:absl:At this time, the v2.11+ optimizer `tf.keras.optimizers.Adam` runs slowly on M1/M2 Macs, please use the legacy Keras optimizer instead, located at `tf.keras.optimizers.legacy.Adam`.\n",
      "WARNING:absl:There is a known slowdown when using v2.11+ Keras optimizers on M1/M2 Macs. Falling back to the legacy Keras optimizer, i.e., `tf.keras.optimizers.legacy.Adam`.\n"
     ]
    },
    {
     "name": "stdout",
     "output_type": "stream",
     "text": [
      "WARNING:tensorflow:Error in loading the saved optimizer state. As a result, your model is starting with a freshly initialized optimizer.\n"
     ]
    },
    {
     "name": "stderr",
     "output_type": "stream",
     "text": [
      "WARNING:tensorflow:Error in loading the saved optimizer state. As a result, your model is starting with a freshly initialized optimizer.\n"
     ]
    }
   ],
   "source": [
    "import tensorflow as tf\n",
    "from sklearn.preprocessing import MinMaxScaler\n",
    "import joblib\n",
    "import pandas as pd\n",
    "import math\n",
    "import mysql.connector\n",
    "\n",
    "# Load the saved model\n",
    "model = tf.keras.models.load_model('model.h5')\n",
    "\n",
    "# Load the scaler\n",
    "scaler_filename = 'scaler.save'\n",
    "scaler = joblib.load(scaler_filename)\n",
    "\n",
    "# Load the dataset with pandas\n",
    "dataset = pd.read_csv('dataset.csv')"
   ]
  },
  {
   "cell_type": "code",
   "execution_count": 20,
   "metadata": {},
   "outputs": [],
   "source": [
    "def calculate_distance(lat1, lon1, lat2, lon2):\n",
    "    R = 6371000  # Earth's radius in meters\n",
    "\n",
    "    # Convert latitude and longitude from degrees to radians\n",
    "    lat1_rad = math.radians(lat1)\n",
    "    lon1_rad = math.radians(lon1)\n",
    "    lat2_rad = math.radians(lat2)\n",
    "    lon2_rad = math.radians(lon2)\n",
    "\n",
    "    # Calculate differences between latitudes and longitudes\n",
    "    delta_lat = lat2_rad - lat1_rad\n",
    "    delta_lon = lon2_rad - lon1_rad\n",
    "\n",
    "    # Apply Haversine formula\n",
    "    a = math.sin(delta_lat/2) * math.sin(delta_lat/2) + math.cos(lat1_rad) * math.cos(lat2_rad) * math.sin(delta_lon/2) * math.sin(delta_lon/2)\n",
    "    c = 2 * math.atan2(math.sqrt(a), math.sqrt(1-a))\n",
    "    distance = R * c\n",
    "\n",
    "    return distance"
   ]
  },
  {
   "cell_type": "code",
   "execution_count": 15,
   "metadata": {},
   "outputs": [],
   "source": [
    "def getdata(category):\n",
    "    \n",
    "    mydb = mysql.connector.connect(\n",
    "        host=\"34.101.230.69\",\n",
    "        user=\"root\",\n",
    "        password=\"CapstoneBisaYuk@123\",\n",
    "        database=\"my_database\"\n",
    "    )\n",
    "\n",
    "    # Create a cursor\n",
    "    mycursor = mydb.cursor()\n",
    "\n",
    "    # Make a query that gets all the data from the table 'TOKO' with value of kategori = category\n",
    "    sql = \"SELECT * FROM TOKO WHERE kategori = %s\"\n",
    "\n",
    "    # Execute the query\n",
    "    mycursor.execute(sql, (category,))\n",
    "\n",
    "    # Fetch all the data\n",
    "    myresult = mycursor.fetchall()\n",
    "\n",
    "    # Put the data into a dataframe\n",
    "    df = pd.DataFrame(myresult, columns=['id_toko', 'nama_toko', 'kategori', 'latitude', 'longitude', 'deskripsi', 'url_image', 'rerata_rating', 'jumlah_rating'])\n",
    "\n",
    "    # Select the columns that will be used for the prediction\n",
    "    df = df[['id_toko', 'latitude', 'longitude', 'rerata_rating', 'jumlah_rating']]\n",
    "\n",
    "    # Close the connection\n",
    "    mydb.close()\n",
    "\n",
    "    return df\n"
   ]
  },
  {
   "cell_type": "code",
   "execution_count": 22,
   "metadata": {},
   "outputs": [],
   "source": [
    "def predict(scaler, model, category, latitude, longitude):\n",
    "\n",
    "    # Get the features\n",
    "    features = getdata(category)\n",
    "\n",
    "    # Create a new column for distance\n",
    "    features['jarak'] = features.apply(lambda row: calculate_distance(latitude, longitude, row['latitude'], row['longitude']), axis=1)\n",
    "\n",
    "    # Drop the latitude and longitude columns and move jarak to after nama_toko\n",
    "    features = features.drop(['latitude', 'longitude'], axis=1)\n",
    "    features = features[['id_toko', 'jarak', 'rerata_rating', 'jumlah_rating']]\n",
    "\n",
    "    # Drop and save the nama_toko column, jarak, rerata_rating, and jumlah_rating columns to a variable\n",
    "    dropped_features = features[['id_toko', 'jarak', 'rerata_rating', 'jumlah_rating']]\n",
    "    features = features.drop(['id_toko'], axis=1)\n",
    "\n",
    "    # Rename the columns to distance(meters), rating_overall, rating_count\n",
    "    features = features.rename(columns={'jarak': 'distance(meters)', 'rerata_rating': 'rating_overall', 'jumlah_rating': 'rating_count'})\n",
    "\n",
    "    # Normalize the features\n",
    "    features_scaled = scaler.transform(features)\n",
    "\n",
    "    # Make predictions, return them as a dataframe with the nama_toko column and the predictions column, avoiding NaN values for nama_toko\n",
    "    predictions = pd.DataFrame(model.predict(features_scaled), columns=['predictions'])\n",
    "    predictions = pd.concat([dropped_features.reset_index(drop=True), predictions], axis=1)\n",
    "\n",
    "    # Reformat the predictions column to 2 decimal places\n",
    "    predictions['predictions'] = predictions['predictions'].apply(lambda x: round(x, 2))\n",
    "\n",
    "    # Sort the predictions by the predictions column in descending order\n",
    "    predictions = predictions.sort_values(by=['predictions'], ascending=False)\n",
    "\n",
    "    # Get the 3 highest predictions and return them as a list of floats\n",
    "    predictions = predictions['predictions'].head(3).tolist()\n",
    "\n",
    "    return predictions\n",
    "\n",
    "    "
   ]
  },
  {
   "cell_type": "code",
   "execution_count": 23,
   "metadata": {},
   "outputs": [
    {
     "name": "stdout",
     "output_type": "stream",
     "text": [
      "2/2 [==============================] - 0s 2ms/step\n",
      "[0.98, 0.96, 0.96]\n"
     ]
    }
   ],
   "source": [
    "# Set the category, domisile, latitude, and longitude\n",
    "category = 'emas'\n",
    "latitude = -6.221877\n",
    "longitude = 106.846261\n",
    "\n",
    "# Make predictions\n",
    "predictions = predict(scaler, model, category, latitude, longitude)\n",
    "\n",
    "# Print the predictions\n",
    "print(predictions)"
   ]
  }
 ],
 "metadata": {
  "kernelspec": {
   "display_name": "Python 3",
   "language": "python",
   "name": "python3"
  },
  "language_info": {
   "codemirror_mode": {
    "name": "ipython",
    "version": 3
   },
   "file_extension": ".py",
   "mimetype": "text/x-python",
   "name": "python",
   "nbconvert_exporter": "python",
   "pygments_lexer": "ipython3",
   "version": "3.10.10"
  },
  "orig_nbformat": 4
 },
 "nbformat": 4,
 "nbformat_minor": 2
}
